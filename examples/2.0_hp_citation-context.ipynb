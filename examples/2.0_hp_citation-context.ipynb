{
 "cells": [
  {
   "cell_type": "code",
   "execution_count": 1,
   "id": "5f7fd60b-e909-41af-9f17-ef52957cdef5",
   "metadata": {},
   "outputs": [],
   "source": [
    "import networkx as nx\n",
    "from helpers import read_jsonl, meta_path, texts_path, PROCESSED"
   ]
  },
  {
   "cell_type": "code",
   "execution_count": 2,
   "id": "725eaf67-cb81-4cf3-8bbe-6ceab5f35a46",
   "metadata": {},
   "outputs": [],
   "source": [
    "def create_edges(citations: dict) -> list:\n",
    "    edges = []\n",
    "    for node in citations:\n",
    "        for parent in citations[node][\"inbound_citations\"]:\n",
    "            if parent in citations.keys():\n",
    "                edges.append((parent, node))\n",
    "        for child in citations[node][\"outbound_citations\"]:\n",
    "            if child in citations.keys():\n",
    "                edges.append((node, child))\n",
    "    return edges"
   ]
  },
  {
   "cell_type": "code",
   "execution_count": 3,
   "id": "f0d20c8e-911d-44bc-b346-686ea38ac339",
   "metadata": {},
   "outputs": [],
   "source": [
    "relevant_papers = {paper[\"paper_id\"] for paper in read_jsonl(texts_path)}"
   ]
  },
  {
   "cell_type": "code",
   "execution_count": 4,
   "id": "5dfb6276-d3a7-428d-942b-639d0499c083",
   "metadata": {},
   "outputs": [
    {
     "data": {
      "text/plain": [
       "9145"
      ]
     },
     "execution_count": 4,
     "metadata": {},
     "output_type": "execute_result"
    }
   ],
   "source": [
    "metadata = {}\n",
    "for paper in read_jsonl(meta_path):\n",
    "    _id = paper[\"paper_id\"]\n",
    "    date_published = paper[\"year\"]\n",
    "    if _id in relevant_papers and date_published is not None and date_published >= 1991:\n",
    "        metadata[_id] = dict(\n",
    "            inbound_citations=paper[\"inbound_citations\"],\n",
    "            outbound_citations=paper[\"outbound_citations\"],\n",
    "        )\n",
    "        \n",
    "len(metadata)"
   ]
  },
  {
   "cell_type": "code",
   "execution_count": 5,
   "id": "46a9e616-702b-4c26-b0db-5934e11e2d96",
   "metadata": {},
   "outputs": [],
   "source": [
    "edges = create_edges(metadata)\n",
    "\n",
    "G = nx.DiGraph()\n",
    "G.add_edges_from(edges)"
   ]
  },
  {
   "cell_type": "code",
   "execution_count": 6,
   "id": "5566621b-7b83-42da-ad35-312ccdacd941",
   "metadata": {},
   "outputs": [],
   "source": [
    "nx.write_gexf(G, PROCESSED / \"210808-gephi.gexf\")"
   ]
  },
  {
   "cell_type": "markdown",
   "id": "8f87afd7-ddb9-4eb3-80ac-5760e1a42827",
   "metadata": {},
   "source": [
    "## Measuring centrality\n",
    "\n",
    "We assume that the more central a publication is located within our network, the more important it is"
   ]
  },
  {
   "cell_type": "code",
   "execution_count": 7,
   "id": "8eee1462-1fec-4634-94a9-6993081c5530",
   "metadata": {},
   "outputs": [],
   "source": [
    "def calculate_centrality(G, method, limit=None):\n",
    "    lookup = {\n",
    "        \"degree_centrality\": nx.degree_centrality,\n",
    "        \"closeness_centrality\": nx.closeness_centrality, \n",
    "        \"betweenness_centrality\": nx.betweenness_centrality,\n",
    "    }\n",
    "    dc = lookup[method](G)\n",
    "    centrality = dict(sorted(dc.items(), key=lambda item: item[1], reverse=True))\n",
    "    if limit is None:\n",
    "        return centrality\n",
    "    ids = list(centrality.keys())[:limit]\n",
    "    return {k:v for k,v in centrality.items() if k in ids}\n",
    "\n",
    "\n",
    "def add_info(comparison_set):\n",
    "    result = []\n",
    "    for paper in read_jsonl(meta_path):\n",
    "        _id = paper[\"paper_id\"]\n",
    "        if _id in comparison_set:\n",
    "            result.append({\n",
    "                \"id\": paper[\"paper_id\"],\n",
    "                \"title\": paper[\"title\"],\n",
    "                \"year\": paper[\"year\"]\n",
    "            })\n",
    "    return sorted(result, key=lambda d: d[\"year\"])"
   ]
  },
  {
   "cell_type": "code",
   "execution_count": 8,
   "id": "8e64c146-10ef-48ec-9c27-6ddf978ce8e5",
   "metadata": {},
   "outputs": [
    {
     "data": {
      "text/plain": [
       "{'3354592': 7.4156470152020756e-06,\n",
       " '159279438': 7.4156470152020756e-06,\n",
       " '53065201': 4.943764676801384e-06,\n",
       " '195490641': 4.943764676801384e-06,\n",
       " '55914559': 4.943764676801384e-06,\n",
       " '39342543': 4.943764676801384e-06,\n",
       " '55694829': 4.943764676801384e-06,\n",
       " '53135628': 3.7078235076010378e-06,\n",
       " '55024365': 2.471882338400692e-06,\n",
       " '29322734': 2.471882338400692e-06}"
      ]
     },
     "execution_count": 8,
     "metadata": {},
     "output_type": "execute_result"
    }
   ],
   "source": [
    "centrality = calculate_centrality(G, method=\"betweenness_centrality\", limit=10)\n",
    "centrality"
   ]
  },
  {
   "cell_type": "code",
   "execution_count": 9,
   "id": "f71ec206-bb33-4a6e-b70e-f8ccb74cb015",
   "metadata": {
    "tags": []
   },
   "outputs": [
    {
     "data": {
      "text/plain": [
       "{'inbound_citations': ['3235947', '195490641', '4564427'],\n",
       " 'outbound_citations': ['48451139',\n",
       "  '155492710',\n",
       "  '23331735',\n",
       "  '22266624',\n",
       "  '53546359',\n",
       "  '20144768',\n",
       "  '59146960',\n",
       "  '154457832',\n",
       "  '42295037',\n",
       "  '155004773',\n",
       "  '1675591',\n",
       "  '145052632',\n",
       "  '153346601',\n",
       "  '155014357',\n",
       "  '153563125',\n",
       "  '32911950',\n",
       "  '153507874',\n",
       "  '5008492',\n",
       "  '6107989',\n",
       "  '43858142',\n",
       "  '24536392',\n",
       "  '35947628',\n",
       "  '158837917',\n",
       "  '154800815',\n",
       "  '19338547',\n",
       "  '157282379',\n",
       "  '159279438',\n",
       "  '154874851',\n",
       "  '152762905',\n",
       "  '22128517',\n",
       "  '936875',\n",
       "  '154325094',\n",
       "  '154001332',\n",
       "  '10760950',\n",
       "  '20083357',\n",
       "  '151102473',\n",
       "  '4107075',\n",
       "  '168069164',\n",
       "  '154267120',\n",
       "  '153422929',\n",
       "  '6317075',\n",
       "  '40227257',\n",
       "  '12431554',\n",
       "  '15211782',\n",
       "  '154779638',\n",
       "  '155179130',\n",
       "  '126749605',\n",
       "  '198320739',\n",
       "  '55301358',\n",
       "  '1906485',\n",
       "  '11309762',\n",
       "  '154230677',\n",
       "  '157270565']}"
      ]
     },
     "execution_count": 9,
     "metadata": {},
     "output_type": "execute_result"
    }
   ],
   "source": [
    "# most central paper\n",
    "metadata[max(centrality, key=centrality.get)]"
   ]
  },
  {
   "cell_type": "code",
   "execution_count": 10,
   "id": "91f49733-6f57-4df0-81d4-62f9ab001007",
   "metadata": {},
   "outputs": [],
   "source": [
    "top_15_central_papers = list(centrality.keys())[:15]\n",
    "result = add_info(top_15_central_papers)"
   ]
  },
  {
   "cell_type": "code",
   "execution_count": 11,
   "id": "de6388f7-6aa5-40f6-8330-174024ea0cb7",
   "metadata": {},
   "outputs": [
    {
     "name": "stdout",
     "output_type": "stream",
     "text": [
      "- 2006, A Conceptual Framework for Interpreting Recorded Human History\n",
      "- 2008, Economic Consequences of Terrorism in Developed and Developing Countries: An Overview\n",
      "- 2011, The Political Costs of Crisis Bargaining: Presidential Rhetoric and the Role of Party\n",
      "- 2014, The Evolving Debate on the Effect of Foreign Aid on Corruption and Institutions in Africa\n",
      "- 2015, Political Corporate Social Responsibility: Reviewing Theories and Setting New Agendas\n",
      "- 2016, Foreign aid and governance in Africa\n",
      "- 2017, Structural adjustment programmes adversely affect vulnerable populations: a systematic-narrative review of their effect on child and maternal health\n",
      "- 2017, Allies in Transparency? Parliamentary, Judicial and Administrative Interplays in the EU’s International Negotiations\n",
      "- 2018, International financial institutions as agents of neoliberalism\n",
      "- 2019, The Impact of Foreign Aid on Maternal Mortality\n"
     ]
    }
   ],
   "source": [
    "for entry in result:\n",
    "    print(f'- {entry[\"year\"]}, {entry[\"title\"]}')"
   ]
  },
  {
   "cell_type": "markdown",
   "id": "d056488d-b1e4-4922-9c6d-07e56227d6c5",
   "metadata": {},
   "source": [
    "# Community detection\n",
    "\n"
   ]
  },
  {
   "cell_type": "code",
   "execution_count": 12,
   "id": "73eb5ee9-aedd-414d-9eff-63fb3298d9ea",
   "metadata": {},
   "outputs": [],
   "source": [
    "from networkx.algorithms import community"
   ]
  },
  {
   "cell_type": "code",
   "execution_count": 13,
   "id": "86e15027-bbe2-4907-806d-c2f7532a2ff9",
   "metadata": {},
   "outputs": [],
   "source": [
    "# Girvan–Newman method\n",
    "communities_generator = community.girvan_newman(G)\n",
    "top_level_communities = next(communities_generator)"
   ]
  },
  {
   "cell_type": "code",
   "execution_count": 14,
   "id": "eae10f25-da23-4c0b-9fa1-15dcc4e19e69",
   "metadata": {},
   "outputs": [],
   "source": [
    "communities = tuple(sorted(c) for c in top_level_communities)"
   ]
  },
  {
   "cell_type": "code",
   "execution_count": 15,
   "id": "c7fded78-d737-48c0-9553-990ce629f065",
   "metadata": {},
   "outputs": [],
   "source": [
    "largest_clique = sorted(communities, key=len)[-1]\n",
    "result = add_info(largest_clique)"
   ]
  },
  {
   "cell_type": "code",
   "execution_count": 16,
   "id": "ab6e28e6-8948-4f85-8c6a-8ae3a3791af3",
   "metadata": {},
   "outputs": [
    {
     "name": "stdout",
     "output_type": "stream",
     "text": [
      "- 1998, Corruption Around the World: Causes, Consequences, Scope, and Cures\n",
      "- 2001, Global Political Economy: Understanding the International Economic Order\n",
      "- 2005, Rules for the world: international organizations in global politics\n",
      "- 2006, The Governance of the IMF: The Need for Comprehensive Reform\n",
      "- 2006, Towards a Dynamic Model of the Interplay Between International Institutions\n",
      "- 2007, To What Extent are International Organizations (IOs) Autonomous Actors in World Politics\n",
      "- 2008, Trust in International Organizations: An Empirical Investigation Focusing on the United Nations\n",
      "- 2008, International Organizations as Corporate Actors: Agency and Emergence in Theories of International Relations\n",
      "- 2009, Power, Governance, and Ideas in Chile’s Free Trade Agreement Policy\n",
      "- 2010, 1 A Perspective on Peace and Economic Cooperation\n",
      "- 2011, Demistifying Globalization and the State: Preliminary Comments on Re-Commodification, Institutions and Innovation\n",
      "- 2012, Agenda-setting in the Common Security and Defence Policy: An institutionalist perspective\n",
      "- 2012, Commitment of Force: Employing Force as an Instrument of Power\n",
      "- 2012, The Anti-Politics of Development: donor agencies and the political economy of governance\n",
      "- 2013, THE IMPLEMENTATION OF INTERNATIONAL ANTI-CORRUPTION LAW IN BUSINESS: LEGAL CONTROL OF CORRUPTION DIRECTED TO TRANSNATIONAL CORPORATIONS\n",
      "- 2015, Political Trust, Corruption, and Ratings of the IMF and the World Bank\n",
      "- 2015, The US hegemony, East Asia and global governance\n",
      "- 2015, Institutions as Tools of Public Policy： A Comparative Evaluation of South East Asian-Sub-Saharan African Post War Development\n",
      "- 2017, Structural adjustment programmes adversely affect vulnerable populations: a systematic-narrative review of their effect on child and maternal health\n",
      "- 2018, International financial institutions as agents of neoliberalism\n",
      "- 2018, Conceptual confusions in debating the role of NGOs for the democratic legitimacy of international law\n",
      "- 2018, STRENGTHENING INDONESIA’S ROLE IN INDIAN OCEAN THROUGH INDIAN OCEAN RIM ASSOCIATION CHAIRMANSHIP IN 2015-2017\n",
      "- 2019, Unintended consequences of EU external action\n",
      "- 2019, The Impact of Foreign Aid on Maternal Mortality\n",
      "- 2019, The politics of the basic benefit package health reforms in Tajikistan\n",
      "- 2019, US-China Economic Conflict Assessment in the Major Paradigms of the Theory of International Relations\n",
      "- 2019, Foreign Aid and Climate Change Policy: What Can(’t) the Data Tell Us?\n",
      "- 2019, Aid Impact and Effectiveness: Introduction and Overview\n"
     ]
    }
   ],
   "source": [
    "for entry in result:\n",
    "    print(f'- {entry[\"year\"]}, {entry[\"title\"]}')"
   ]
  }
 ],
 "metadata": {
  "kernelspec": {
   "display_name": "Python 3 (ipykernel)",
   "language": "python",
   "name": "python3"
  },
  "language_info": {
   "codemirror_mode": {
    "name": "ipython",
    "version": 3
   },
   "file_extension": ".py",
   "mimetype": "text/x-python",
   "name": "python",
   "nbconvert_exporter": "python",
   "pygments_lexer": "ipython3",
   "version": "3.8.5"
  }
 },
 "nbformat": 4,
 "nbformat_minor": 5
}
