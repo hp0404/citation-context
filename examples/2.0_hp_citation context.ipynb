{
 "cells": [
  {
   "cell_type": "markdown",
   "id": "e44bbd14-9521-41fe-bcb0-a2dd48b2960e",
   "metadata": {},
   "source": [
    "# Exploratory analysis of S2ORC-Influence-IR corpus\n",
    "\n",
    "This notebook explores the dataset from network analysis perspective. "
   ]
  },
  {
   "cell_type": "code",
   "execution_count": 1,
   "id": "ff984df7-d5bf-4b2d-8680-68ff03dd9251",
   "metadata": {},
   "outputs": [],
   "source": [
    "import json\n",
    "import pathlib\n",
    "from typing import Iterator, Dict, Any\n",
    "\n",
    "import networkx as nx"
   ]
  },
  {
   "cell_type": "code",
   "execution_count": 2,
   "id": "3db4ce6f-e908-46b4-8bb7-5698a063c8f4",
   "metadata": {},
   "outputs": [],
   "source": [
    "# path\n",
    "ROOT = pathlib.Path(\"./\").resolve().parent\n",
    "RAW = ROOT / \"data\" / \"raw\"\n",
    "\n",
    "# typing classes\n",
    "# doesn't change the behaviour of the code,\n",
    "# but rather helps to understad what a particular function\n",
    "# takes as an input or returns as an output\n",
    "Publication = Dict[str, Any]"
   ]
  },
  {
   "cell_type": "code",
   "execution_count": 3,
   "id": "92999b9a-c2a3-4141-a995-b0a2c99d9725",
   "metadata": {},
   "outputs": [],
   "source": [
    "def read_jsonl(p: pathlib.PosixPath) -> Iterator[Publication]:\n",
    "    \"\"\"Yield .jsonl file's contents line by line.\"\"\"\n",
    "    with open(p) as lines:\n",
    "        for line in lines:\n",
    "            yield json.loads(line)\n",
    "            \n",
    "            \n",
    "def retrive_texts(data: Publication, field: str = \"body_text\") -> str:\n",
    "    \"\"\"Parse 'body_text' or 'abstract' fields extracting raw texts.\"\"\"\n",
    "    return \" \".join(section[\"text\"] for section in data[field])"
   ]
  },
  {
   "cell_type": "markdown",
   "id": "bc95c972-2d9a-4c6d-8333-b9231602cf6a",
   "metadata": {},
   "source": [
    "## Based on `texts.jsonl`"
   ]
  },
  {
   "cell_type": "code",
   "execution_count": 4,
   "id": "f1127760-1e5e-4362-8313-6dadf8055aec",
   "metadata": {},
   "outputs": [],
   "source": [
    "fulltexts = {}\n",
    "citation_context = {}\n",
    "for publication in read_jsonl(RAW / \"texts.jsonl\"):\n",
    "    _id = publication[\"paper_id\"]\n",
    "    \n",
    "    fulltexts[_id] = publication\n",
    "    fulltexts[_id][\"body_text\"] = retrive_texts(publication)\n",
    "    \n",
    "    citation_context[_id] = [\n",
    "        citation[\"link\"]\n",
    "        for citation in publication[\"bib_entries\"].values()\n",
    "        if citation[\"link\"] is not None\n",
    "    ]"
   ]
  },
  {
   "cell_type": "code",
   "execution_count": 5,
   "id": "14a73c47-f240-4571-b6f4-4a4336e34c21",
   "metadata": {},
   "outputs": [],
   "source": [
    "metadata = {}\n",
    "for publication in read_jsonl(RAW / \"metadata.jsonl\"):\n",
    "    _id = publication[\"paper_id\"]\n",
    "    if _id in citation_context.keys():\n",
    "        metadata[_id] = publication"
   ]
  },
  {
   "cell_type": "code",
   "execution_count": 6,
   "id": "b4911512-7e2c-47a7-989a-b4d335f1b056",
   "metadata": {},
   "outputs": [
    {
     "data": {
      "text/plain": [
       "9411"
      ]
     },
     "execution_count": 6,
     "metadata": {},
     "output_type": "execute_result"
    }
   ],
   "source": [
    "len(citation_context)"
   ]
  },
  {
   "cell_type": "markdown",
   "id": "340cab66-e790-408a-9bb7-1841acd48e4c",
   "metadata": {},
   "source": [
    "## Measuring centrality\n",
    "\n",
    "We assume that the more central a publication is located within our network, the more important it is"
   ]
  },
  {
   "cell_type": "code",
   "execution_count": 7,
   "id": "59b9bf3f-94de-4806-89ba-37c99fe0f2cd",
   "metadata": {},
   "outputs": [],
   "source": [
    "G = nx.from_dict_of_lists(citation_context)"
   ]
  },
  {
   "cell_type": "code",
   "execution_count": 8,
   "id": "0b02685e-2e6a-4bef-bc0a-1e6086b057da",
   "metadata": {},
   "outputs": [
    {
     "data": {
      "text/plain": [
       "109242"
      ]
     },
     "execution_count": 8,
     "metadata": {},
     "output_type": "execute_result"
    }
   ],
   "source": [
    "len(G.nodes())"
   ]
  },
  {
   "cell_type": "code",
   "execution_count": 9,
   "id": "87dc6dfb-9521-459b-ac76-1a250d992c85",
   "metadata": {},
   "outputs": [
    {
     "data": {
      "text/plain": [
       "124163"
      ]
     },
     "execution_count": 9,
     "metadata": {},
     "output_type": "execute_result"
    }
   ],
   "source": [
    "len(G.edges())"
   ]
  },
  {
   "cell_type": "code",
   "execution_count": 10,
   "id": "e27016da-1ff6-4813-a4df-df9489616889",
   "metadata": {},
   "outputs": [],
   "source": [
    "# calucate 'degree_centrality'\n",
    "dc = nx.degree_centrality(G)\n",
    "# sort\n",
    "centrality = dict(sorted(dc.items(), key=lambda item: item[1], reverse=True))\n",
    "# select top 10 papers by 'degree_centrality'\n",
    "top_centrality = list(centrality.keys())[:10]"
   ]
  },
  {
   "cell_type": "code",
   "execution_count": 12,
   "id": "5e1e3550-9581-425c-8d6a-5ff520893ffd",
   "metadata": {},
   "outputs": [
    {
     "data": {
      "text/plain": [
       "dict_keys(['paper_id', 'title', 'authors', 'abstract', 'year', 'arxiv_id', 'acl_id', 'pmc_id', 'pubmed_id', 'doi', 'venue', 'journal', 'has_pdf_body_text', 'mag_id', 'mag_field_of_study', 'outbound_citations', 'inbound_citations', 'has_outbound_citations', 'has_inbound_citations', 'has_pdf_parse', 'has_pdf_parsed_abstract', 'has_pdf_parsed_body_text', 'has_pdf_parsed_bib_entries', 'has_pdf_parsed_ref_entries', 's2_url'])"
      ]
     },
     "execution_count": 12,
     "metadata": {},
     "output_type": "execute_result"
    }
   ],
   "source": [
    "metadata.get(top_centrality[0]).keys()"
   ]
  },
  {
   "cell_type": "code",
   "execution_count": 13,
   "id": "f0cfcabd-b725-4e97-bb3f-eed6561e128b",
   "metadata": {},
   "outputs": [
    {
     "name": "stdout",
     "output_type": "stream",
     "text": [
      "The Economics of International Student and Scholar Mobility : Directions for Research 2019\n",
      "Peace building after Civil War: A Critical Survey of the Literature and Avenues for Future Research 2017\n",
      "Political Corporate Social Responsibility: Reviewing Theories and Setting New Agendas 2015\n",
      "Notes on the Determinants of Innovation: A Multi-Perspective Analysis 2004\n",
      "Reinventing foreign aid for inclusive and sustainable development: a survey 2014\n",
      "The disclosure of concealable stigmas: Analysis anchored in trust 2016\n",
      "On the Tension between Sex Equality and Religious Freedom 2007\n",
      "Theories of War in an Era of Leading-Power Peace Presidential Address, American Political Science Association, 2001 2002\n",
      "Military Tribunals and Legal Culture: What a Difference Sixty Years Makes 2002\n",
      "Cognitive Approaches to Foreign Policy Analysis 2017\n"
     ]
    }
   ],
   "source": [
    "for paper_id in top_centrality:\n",
    "    print(metadata[paper_id][\"title\"], metadata[paper_id][\"year\"])"
   ]
  },
  {
   "cell_type": "markdown",
   "id": "ec7a3c96-309f-48dd-b2f7-156c4a9c97fe",
   "metadata": {},
   "source": [
    "I don't think it looks very impressive, but still a good start."
   ]
  },
  {
   "cell_type": "markdown",
   "id": "11c50a12-aa40-4a27-9c9e-397179aa952c",
   "metadata": {},
   "source": [
    "---"
   ]
  }
 ],
 "metadata": {
  "kernelspec": {
   "display_name": "Python 3 (ipykernel)",
   "language": "python",
   "name": "python3"
  },
  "language_info": {
   "codemirror_mode": {
    "name": "ipython",
    "version": 3
   },
   "file_extension": ".py",
   "mimetype": "text/x-python",
   "name": "python",
   "nbconvert_exporter": "python",
   "pygments_lexer": "ipython3",
   "version": "3.8.10"
  }
 },
 "nbformat": 4,
 "nbformat_minor": 5
}
