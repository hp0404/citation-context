{
 "cells": [
  {
   "cell_type": "code",
   "execution_count": 1,
   "id": "c596747a-18a5-44a7-90f2-3b0d96c4f2fb",
   "metadata": {},
   "outputs": [],
   "source": [
    "import os\n",
    "import json\n",
    "import logging \n",
    "\n",
    "os.environ[\"CR_API_AGENT\"] = \"S2ORC metadata extraction; mailto:hcssteamukraine@gmail.com\"\n",
    "os.environ[\"CR_API_MAILTO\"] = \"hcssteamukraine@gmail.com\""
   ]
  },
  {
   "cell_type": "code",
   "execution_count": 2,
   "id": "cf63e927-d064-4ac3-98f8-7b1925c5045e",
   "metadata": {},
   "outputs": [],
   "source": [
    "import pandas as pd\n",
    "import crossref_commons.retrieval"
   ]
  },
  {
   "cell_type": "code",
   "execution_count": 4,
   "id": "3b98dc21-889b-469e-9ab8-a643a85f8d65",
   "metadata": {},
   "outputs": [],
   "source": [
    "from helpers import read_jsonl, texts_path, meta_path"
   ]
  },
  {
   "cell_type": "code",
   "execution_count": 4,
   "id": "f6b191e3-95a9-496b-b07b-28aebd4bf1fc",
   "metadata": {},
   "outputs": [],
   "source": [
    "def create_logger(name: str):\n",
    "    \"\"\"Create logger with DEBUG level & stream handler.\"\"\"\n",
    "    logger = logging.getLogger(name)\n",
    "    logger.setLevel(logging.DEBUG)\n",
    "    sh = logging.StreamHandler()\n",
    "    sh.setLevel(logging.DEBUG)\n",
    "    formatter = logging.Formatter(\"%(asctime)s [%(levelname)s]: %(message)s\")\n",
    "    sh.setFormatter(formatter)\n",
    "    logger.addHandler(sh)\n",
    "    return logger\n",
    "\n",
    "\n",
    "logger = create_logger(\"crossref\")"
   ]
  },
  {
   "cell_type": "code",
   "execution_count": 5,
   "id": "a279a92c-6def-4b83-9c3f-20c635b1053e",
   "metadata": {},
   "outputs": [],
   "source": [
    "relevant_papers = {paper[\"paper_id\"] for paper in read_jsonl(texts_path)}"
   ]
  },
  {
   "cell_type": "code",
   "execution_count": 5,
   "id": "b6179091-3ea4-4f49-bcf1-03d4939c35dc",
   "metadata": {},
   "outputs": [
    {
     "ename": "NameError",
     "evalue": "name 'relevant_papers' is not defined",
     "output_type": "error",
     "traceback": [
      "\u001b[1;31m---------------------------------------------------------------------------\u001b[0m",
      "\u001b[1;31mNameError\u001b[0m                                 Traceback (most recent call last)",
      "\u001b[1;32m~\\AppData\\Local\\Temp/ipykernel_952/977229012.py\u001b[0m in \u001b[0;36m<module>\u001b[1;34m\u001b[0m\n\u001b[0;32m      3\u001b[0m     \u001b[0m_id\u001b[0m \u001b[1;33m=\u001b[0m \u001b[0mpaper\u001b[0m\u001b[1;33m[\u001b[0m\u001b[1;34m\"paper_id\"\u001b[0m\u001b[1;33m]\u001b[0m\u001b[1;33m\u001b[0m\u001b[1;33m\u001b[0m\u001b[0m\n\u001b[0;32m      4\u001b[0m     \u001b[0mdate_published\u001b[0m \u001b[1;33m=\u001b[0m \u001b[0mpaper\u001b[0m\u001b[1;33m[\u001b[0m\u001b[1;34m\"year\"\u001b[0m\u001b[1;33m]\u001b[0m\u001b[1;33m\u001b[0m\u001b[1;33m\u001b[0m\u001b[0m\n\u001b[1;32m----> 5\u001b[1;33m     \u001b[1;32mif\u001b[0m \u001b[0m_id\u001b[0m \u001b[1;32min\u001b[0m \u001b[0mrelevant_papers\u001b[0m\u001b[1;33m:\u001b[0m\u001b[1;33m\u001b[0m\u001b[1;33m\u001b[0m\u001b[0m\n\u001b[0m\u001b[0;32m      6\u001b[0m         metadata.append({\n\u001b[0;32m      7\u001b[0m             \u001b[1;34m\"id\"\u001b[0m\u001b[1;33m:\u001b[0m \u001b[0m_id\u001b[0m\u001b[1;33m,\u001b[0m\u001b[1;33m\u001b[0m\u001b[1;33m\u001b[0m\u001b[0m\n",
      "\u001b[1;31mNameError\u001b[0m: name 'relevant_papers' is not defined"
     ]
    }
   ],
   "source": [
    "metadata = []\n",
    "for paper in read_jsonl(meta_path):\n",
    "    _id = paper[\"paper_id\"]\n",
    "    date_published = paper[\"year\"]\n",
    "    if _id in relevant_papers:\n",
    "        metadata.append({\n",
    "            \"id\": _id,\n",
    "            \"DOI\": paper[\"doi\"],\n",
    "            \"year\": date_published\n",
    "        })"
   ]
  },
  {
   "cell_type": "code",
   "execution_count": 7,
   "id": "ebfc3c8b-db9f-4f7d-a342-d8548afee5db",
   "metadata": {},
   "outputs": [
    {
     "data": {
      "text/plain": [
       "{'id': '157553241', 'DOI': '10.4000/rfcb.1364', 'year': 2017}"
      ]
     },
     "execution_count": 7,
     "metadata": {},
     "output_type": "execute_result"
    }
   ],
   "source": [
    "metadata[0]"
   ]
  },
  {
   "cell_type": "markdown",
   "id": "a6d711ac-bebe-4c09-8330-238720affc3d",
   "metadata": {},
   "source": [
    "---"
   ]
  },
  {
   "cell_type": "code",
   "execution_count": 8,
   "id": "74676d73-7d6a-4d88-a6b7-1788bf77ac41",
   "metadata": {},
   "outputs": [],
   "source": [
    "def retrieve_crossref_data(dois):\n",
    "    for doi in dois:\n",
    "        try:\n",
    "            data = crossref_commons.retrieval.get_publication_as_json(doi)\n",
    "        except ValueError as ex:\n",
    "            data = {\"DOI\": doi, \"Error\": str(ex)}\n",
    "        yield {\"DOI\": doi, **data}"
   ]
  },
  {
   "cell_type": "code",
   "execution_count": 9,
   "id": "1b27668a-ba6a-4ad9-8560-49f22224dc6f",
   "metadata": {},
   "outputs": [],
   "source": [
    "DOIs = {paper[\"DOI\"] for paper in metadata if paper[\"DOI\"] is not None}"
   ]
  },
  {
   "cell_type": "code",
   "execution_count": 14,
   "id": "50b06600-714b-440f-af79-5c626bd33522",
   "metadata": {},
   "outputs": [
    {
     "name": "stderr",
     "output_type": "stream",
     "text": [
      "2021-08-18 23:34:31,002 [INFO]: START\n",
      "INFO:crossref:START\n",
      "2021-08-18 23:38:20,688 [INFO]: Downloaded 500 entries.\n",
      "INFO:crossref:Downloaded 500 entries.\n",
      "2021-08-18 23:42:09,784 [INFO]: Downloaded 1000 entries.\n",
      "INFO:crossref:Downloaded 1000 entries.\n",
      "2021-08-18 23:45:59,573 [INFO]: Downloaded 1500 entries.\n",
      "INFO:crossref:Downloaded 1500 entries.\n",
      "2021-08-18 23:49:50,133 [INFO]: Downloaded 2000 entries.\n",
      "INFO:crossref:Downloaded 2000 entries.\n",
      "2021-08-18 23:53:38,977 [INFO]: Downloaded 2500 entries.\n",
      "INFO:crossref:Downloaded 2500 entries.\n",
      "2021-08-18 23:57:30,175 [INFO]: Downloaded 3000 entries.\n",
      "INFO:crossref:Downloaded 3000 entries.\n",
      "2021-08-19 00:01:21,052 [INFO]: Downloaded 3500 entries.\n",
      "INFO:crossref:Downloaded 3500 entries.\n",
      "2021-08-19 00:05:12,918 [INFO]: Downloaded 4000 entries.\n",
      "INFO:crossref:Downloaded 4000 entries.\n",
      "2021-08-19 00:09:02,795 [INFO]: Downloaded 4500 entries.\n",
      "INFO:crossref:Downloaded 4500 entries.\n",
      "2021-08-19 00:12:51,633 [INFO]: Downloaded 5000 entries.\n",
      "INFO:crossref:Downloaded 5000 entries.\n",
      "2021-08-19 00:16:41,080 [INFO]: Downloaded 5500 entries.\n",
      "INFO:crossref:Downloaded 5500 entries.\n",
      "2021-08-19 00:20:30,268 [INFO]: Downloaded 6000 entries.\n",
      "INFO:crossref:Downloaded 6000 entries.\n",
      "2021-08-19 00:24:18,269 [INFO]: Downloaded 6500 entries.\n",
      "INFO:crossref:Downloaded 6500 entries.\n",
      "2021-08-19 00:28:07,750 [INFO]: Downloaded 7000 entries.\n",
      "INFO:crossref:Downloaded 7000 entries.\n",
      "2021-08-19 00:31:56,339 [INFO]: Downloaded 7500 entries.\n",
      "INFO:crossref:Downloaded 7500 entries.\n",
      "2021-08-19 00:35:46,032 [INFO]: Downloaded 8000 entries.\n",
      "INFO:crossref:Downloaded 8000 entries.\n",
      "2021-08-19 00:39:34,321 [INFO]: Downloaded 8500 entries.\n",
      "INFO:crossref:Downloaded 8500 entries.\n",
      "2021-08-19 00:43:23,015 [INFO]: Downloaded 9000 entries.\n",
      "INFO:crossref:Downloaded 9000 entries.\n",
      "2021-08-19 00:44:21,821 [INFO]: FINISH\n",
      "INFO:crossref:FINISH\n"
     ]
    }
   ],
   "source": [
    "counter = 0\n",
    "logger.info(\"START\")\n",
    "with open(\"../data/processed/dois-metadata.jsonl\", \"w\", encoding=\"utf-8\") as out:\n",
    "    for result in retrieve_crossref_data(DOIs):\n",
    "        json.dump(result, out)\n",
    "        out.write(\"\\n\")\n",
    "        counter += 1\n",
    "        if counter % 500 == 0:\n",
    "            logger.info(f\"Downloaded {counter} entries.\")\n",
    "            \n",
    "logger.info(\"FINISH\")"
   ]
  }
 ],
 "metadata": {
  "kernelspec": {
   "display_name": "Python 3 (ipykernel)",
   "language": "python",
   "name": "python3"
  },
  "language_info": {
   "codemirror_mode": {
    "name": "ipython",
    "version": 3
   },
   "file_extension": ".py",
   "mimetype": "text/x-python",
   "name": "python",
   "nbconvert_exporter": "python",
   "pygments_lexer": "ipython3",
   "version": "3.8.5"
  }
 },
 "nbformat": 4,
 "nbformat_minor": 5
}
