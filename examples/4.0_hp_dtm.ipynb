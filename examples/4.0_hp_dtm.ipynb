{
 "cells": [
  {
   "cell_type": "code",
   "execution_count": 1,
   "id": "c98b3c43-4cdd-4eb9-ae9a-0eab4a6c49f8",
   "metadata": {},
   "outputs": [],
   "source": [
    "from bertopic import BERTopic\n",
    "from helpers import read_jsonl, meta_path, texts_path, Publication, ROOT"
   ]
  },
  {
   "cell_type": "code",
   "execution_count": 2,
   "id": "89eba33b-f209-48e2-ad2b-51d83eedd02d",
   "metadata": {},
   "outputs": [],
   "source": [
    "def retrieve_texts(data: Publication, field: str = \"body_text\") -> str:\n",
    "    \"\"\"Parse 'body_text' or 'abstract' fields extracting raw texts.\"\"\"\n",
    "    return {\n",
    "        \"id\": data[\"paper_id\"],\n",
    "        \"text\": \" \".join(section[\"text\"] for section in data[field])\n",
    "    }"
   ]
  },
  {
   "cell_type": "code",
   "execution_count": 3,
   "id": "fe24f0cf-0701-4829-a1ec-34a46bdc77c7",
   "metadata": {},
   "outputs": [],
   "source": [
    "data = [retrieve_texts(paper) for paper in read_jsonl(texts_path)]"
   ]
  },
  {
   "cell_type": "code",
   "execution_count": 4,
   "id": "7c61ebbe-1ba0-4df5-b022-50fce10a4d55",
   "metadata": {},
   "outputs": [],
   "source": [
    "ids = {entry[\"id\"] for entry in data}"
   ]
  },
  {
   "cell_type": "code",
   "execution_count": 5,
   "id": "bbecb7e9-9d57-42db-af04-76d8eb7e2d4b",
   "metadata": {},
   "outputs": [],
   "source": [
    "metadata = []\n",
    "for paper in read_jsonl(meta_path):\n",
    "    if paper[\"paper_id\"] in ids and paper[\"year\"] is not None:\n",
    "        if paper[\"year\"] >= 1991:\n",
    "            metadata.append({\n",
    "                \"id\": paper[\"paper_id\"],\n",
    "                \"year\": paper[\"year\"]\n",
    "            })"
   ]
  },
  {
   "cell_type": "code",
   "execution_count": 6,
   "id": "0feaed30-d2fa-400a-a491-d3005fe4f3d4",
   "metadata": {},
   "outputs": [
    {
     "data": {
      "text/plain": [
       "9145"
      ]
     },
     "execution_count": 6,
     "metadata": {},
     "output_type": "execute_result"
    }
   ],
   "source": [
    "len(metadata)"
   ]
  },
  {
   "cell_type": "code",
   "execution_count": 7,
   "id": "8f3ccdda-1450-4359-9bb3-deaa93883860",
   "metadata": {},
   "outputs": [],
   "source": [
    "timestamps = [paper[\"year\"] for paper in metadata]\n",
    "texts = [paper[\"text\"] for paper in data if paper[\"id\"] in {i[\"id\"] for i in metadata}]"
   ]
  },
  {
   "cell_type": "code",
   "execution_count": 8,
   "id": "63d9d7e7-18b1-4674-9c35-e1a17fdba507",
   "metadata": {},
   "outputs": [],
   "source": [
    "assert len(texts) == len(timestamps)"
   ]
  },
  {
   "cell_type": "markdown",
   "id": "4bde6454-c1d7-459a-a0ef-fcc05cb1b167",
   "metadata": {},
   "source": [
    "# TM"
   ]
  },
  {
   "cell_type": "code",
   "execution_count": 11,
   "id": "e92ed4f1-4769-42ba-83a2-d060507f9efa",
   "metadata": {},
   "outputs": [
    {
     "data": {
      "application/vnd.jupyter.widget-view+json": {
       "model_id": "767b35a30a704ceaa3fb42860577c26f",
       "version_major": 2,
       "version_minor": 0
      },
      "text/plain": [
       "Batches:   0%|          | 0/286 [00:00<?, ?it/s]"
      ]
     },
     "metadata": {},
     "output_type": "display_data"
    },
    {
     "name": "stderr",
     "output_type": "stream",
     "text": [
      "2021-08-18 14:32:57,181 - BERTopic - Transformed documents to Embeddings\n",
      "2021-08-18 14:33:42,231 - BERTopic - Reduced dimensionality with UMAP\n",
      "2021-08-18 14:33:43,440 - BERTopic - Clustered UMAP embeddings with HDBSCAN\n"
     ]
    }
   ],
   "source": [
    "topic_model = BERTopic(verbose=True, low_memory=True, calculate_probabilities=False)\n",
    "topics, probs = topic_model.fit_transform(texts)"
   ]
  },
  {
   "cell_type": "code",
   "execution_count": 12,
   "id": "c85727bb-b09c-45a0-aa9c-794d549c1fe9",
   "metadata": {},
   "outputs": [
    {
     "data": {
      "text/html": [
       "<div>\n",
       "<style scoped>\n",
       "    .dataframe tbody tr th:only-of-type {\n",
       "        vertical-align: middle;\n",
       "    }\n",
       "\n",
       "    .dataframe tbody tr th {\n",
       "        vertical-align: top;\n",
       "    }\n",
       "\n",
       "    .dataframe thead th {\n",
       "        text-align: right;\n",
       "    }\n",
       "</style>\n",
       "<table border=\"1\" class=\"dataframe\">\n",
       "  <thead>\n",
       "    <tr style=\"text-align: right;\">\n",
       "      <th></th>\n",
       "      <th>Topic</th>\n",
       "      <th>Count</th>\n",
       "      <th>Name</th>\n",
       "    </tr>\n",
       "  </thead>\n",
       "  <tbody>\n",
       "    <tr>\n",
       "      <th>0</th>\n",
       "      <td>-1</td>\n",
       "      <td>3729</td>\n",
       "      <td>-1_we_were_can_social</td>\n",
       "    </tr>\n",
       "    <tr>\n",
       "      <th>1</th>\n",
       "      <td>0</td>\n",
       "      <td>321</td>\n",
       "      <td>0_law_court_legal_courts</td>\n",
       "    </tr>\n",
       "    <tr>\n",
       "      <th>2</th>\n",
       "      <td>1</td>\n",
       "      <td>292</td>\n",
       "      <td>1_eu_european_union_eus</td>\n",
       "    </tr>\n",
       "    <tr>\n",
       "      <th>3</th>\n",
       "      <td>2</td>\n",
       "      <td>266</td>\n",
       "      <td>2_migration_migrants_immigration_immigrants</td>\n",
       "    </tr>\n",
       "    <tr>\n",
       "      <th>4</th>\n",
       "      <td>3</td>\n",
       "      <td>189</td>\n",
       "      <td>3_african_africa_government_political</td>\n",
       "    </tr>\n",
       "  </tbody>\n",
       "</table>\n",
       "</div>"
      ],
      "text/plain": [
       "   Topic  Count                                         Name\n",
       "0     -1   3729                        -1_we_were_can_social\n",
       "1      0    321                     0_law_court_legal_courts\n",
       "2      1    292                      1_eu_european_union_eus\n",
       "3      2    266  2_migration_migrants_immigration_immigrants\n",
       "4      3    189        3_african_africa_government_political"
      ]
     },
     "execution_count": 12,
     "metadata": {},
     "output_type": "execute_result"
    }
   ],
   "source": [
    "freq = topic_model.get_topic_info(); freq.head(5)"
   ]
  },
  {
   "cell_type": "code",
   "execution_count": 14,
   "id": "81820068-209c-4bef-8cdb-4d19ba00c3f8",
   "metadata": {},
   "outputs": [
    {
     "data": {
      "text/html": [
       "<div>\n",
       "<style scoped>\n",
       "    .dataframe tbody tr th:only-of-type {\n",
       "        vertical-align: middle;\n",
       "    }\n",
       "\n",
       "    .dataframe tbody tr th {\n",
       "        vertical-align: top;\n",
       "    }\n",
       "\n",
       "    .dataframe thead th {\n",
       "        text-align: right;\n",
       "    }\n",
       "</style>\n",
       "<table border=\"1\" class=\"dataframe\">\n",
       "  <thead>\n",
       "    <tr style=\"text-align: right;\">\n",
       "      <th></th>\n",
       "      <th>Topic</th>\n",
       "      <th>Count</th>\n",
       "      <th>Name</th>\n",
       "    </tr>\n",
       "  </thead>\n",
       "  <tbody>\n",
       "    <tr>\n",
       "      <th>0</th>\n",
       "      <td>-1</td>\n",
       "      <td>3729</td>\n",
       "      <td>-1_we_were_can_social</td>\n",
       "    </tr>\n",
       "    <tr>\n",
       "      <th>1</th>\n",
       "      <td>0</td>\n",
       "      <td>321</td>\n",
       "      <td>0_law_court_legal_courts</td>\n",
       "    </tr>\n",
       "    <tr>\n",
       "      <th>2</th>\n",
       "      <td>1</td>\n",
       "      <td>292</td>\n",
       "      <td>1_eu_european_union_eus</td>\n",
       "    </tr>\n",
       "    <tr>\n",
       "      <th>3</th>\n",
       "      <td>2</td>\n",
       "      <td>266</td>\n",
       "      <td>2_migration_migrants_immigration_immigrants</td>\n",
       "    </tr>\n",
       "    <tr>\n",
       "      <th>4</th>\n",
       "      <td>3</td>\n",
       "      <td>189</td>\n",
       "      <td>3_african_africa_government_political</td>\n",
       "    </tr>\n",
       "    <tr>\n",
       "      <th>...</th>\n",
       "      <td>...</td>\n",
       "      <td>...</td>\n",
       "      <td>...</td>\n",
       "    </tr>\n",
       "    <tr>\n",
       "      <th>125</th>\n",
       "      <td>124</td>\n",
       "      <td>12</td>\n",
       "      <td>124_institutional_institutions_organizations_o...</td>\n",
       "    </tr>\n",
       "    <tr>\n",
       "      <th>126</th>\n",
       "      <td>125</td>\n",
       "      <td>12</td>\n",
       "      <td>125_un_civilizations_nations_international</td>\n",
       "    </tr>\n",
       "    <tr>\n",
       "      <th>127</th>\n",
       "      <td>126</td>\n",
       "      <td>11</td>\n",
       "      <td>126_piracy_maritime_pirates_ship</td>\n",
       "    </tr>\n",
       "    <tr>\n",
       "      <th>128</th>\n",
       "      <td>127</td>\n",
       "      <td>10</td>\n",
       "      <td>127_regulatory_regulators_regulation_rules</td>\n",
       "    </tr>\n",
       "    <tr>\n",
       "      <th>129</th>\n",
       "      <td>128</td>\n",
       "      <td>10</td>\n",
       "      <td>128_humanities_academic_university_universities</td>\n",
       "    </tr>\n",
       "  </tbody>\n",
       "</table>\n",
       "<p>130 rows × 3 columns</p>\n",
       "</div>"
      ],
      "text/plain": [
       "     Topic  Count                                               Name\n",
       "0       -1   3729                              -1_we_were_can_social\n",
       "1        0    321                           0_law_court_legal_courts\n",
       "2        1    292                            1_eu_european_union_eus\n",
       "3        2    266        2_migration_migrants_immigration_immigrants\n",
       "4        3    189              3_african_africa_government_political\n",
       "..     ...    ...                                                ...\n",
       "125    124     12  124_institutional_institutions_organizations_o...\n",
       "126    125     12         125_un_civilizations_nations_international\n",
       "127    126     11                   126_piracy_maritime_pirates_ship\n",
       "128    127     10         127_regulatory_regulators_regulation_rules\n",
       "129    128     10    128_humanities_academic_university_universities\n",
       "\n",
       "[130 rows x 3 columns]"
      ]
     },
     "execution_count": 14,
     "metadata": {},
     "output_type": "execute_result"
    }
   ],
   "source": [
    "freq"
   ]
  },
  {
   "cell_type": "code",
   "execution_count": 23,
   "id": "b43ff54b-8a42-4f08-9737-439dbadd7ab0",
   "metadata": {},
   "outputs": [],
   "source": [
    "topic_model.save(\"../models/210818-BERT.model\")"
   ]
  },
  {
   "cell_type": "code",
   "execution_count": 24,
   "id": "95cac723-4c47-4621-b6c0-ef597dd4ad2a",
   "metadata": {},
   "outputs": [],
   "source": [
    "freq.to_csv(\"../data/processed/210818-bert-freq-static.csv\", index=False)"
   ]
  },
  {
   "cell_type": "markdown",
   "id": "b7b80b2d-6713-4c30-8893-eeed103e9647",
   "metadata": {},
   "source": [
    "# DTM"
   ]
  },
  {
   "cell_type": "code",
   "execution_count": 27,
   "id": "ec54d817-dbd0-42ec-88bd-7468f3cbd973",
   "metadata": {},
   "outputs": [
    {
     "name": "stderr",
     "output_type": "stream",
     "text": [
      "30it [14:16, 28.54s/it]\n"
     ]
    }
   ],
   "source": [
    "topics_over_time = topic_model.topics_over_time(texts, topics, timestamps)"
   ]
  },
  {
   "cell_type": "code",
   "execution_count": 28,
   "id": "ac8b3929-9caa-4b24-beb6-1ab4a5f63d83",
   "metadata": {},
   "outputs": [],
   "source": [
    "assert len(topics_over_time[\"Topic\"].unique()) == len(freq[\"Topic\"].unique())"
   ]
  },
  {
   "cell_type": "code",
   "execution_count": 29,
   "id": "9d605369-4b4c-4c47-8fa8-56df86f87bb6",
   "metadata": {},
   "outputs": [
    {
     "data": {
      "text/html": [
       "<div>\n",
       "<style scoped>\n",
       "    .dataframe tbody tr th:only-of-type {\n",
       "        vertical-align: middle;\n",
       "    }\n",
       "\n",
       "    .dataframe tbody tr th {\n",
       "        vertical-align: top;\n",
       "    }\n",
       "\n",
       "    .dataframe thead th {\n",
       "        text-align: right;\n",
       "    }\n",
       "</style>\n",
       "<table border=\"1\" class=\"dataframe\">\n",
       "  <thead>\n",
       "    <tr style=\"text-align: right;\">\n",
       "      <th></th>\n",
       "      <th>Topic</th>\n",
       "      <th>Words</th>\n",
       "      <th>Frequency</th>\n",
       "      <th>Timestamp</th>\n",
       "    </tr>\n",
       "  </thead>\n",
       "  <tbody>\n",
       "    <tr>\n",
       "      <th>0</th>\n",
       "      <td>-1</td>\n",
       "      <td>gongos, euthanasia, autonomy, ngos, agents</td>\n",
       "      <td>7</td>\n",
       "      <td>1991</td>\n",
       "    </tr>\n",
       "    <tr>\n",
       "      <th>1</th>\n",
       "      <td>0</td>\n",
       "      <td>law, jurisdiction, laws, court, rule</td>\n",
       "      <td>3</td>\n",
       "      <td>1991</td>\n",
       "    </tr>\n",
       "    <tr>\n",
       "      <th>2</th>\n",
       "      <td>4</td>\n",
       "      <td>china, chinas, chinese, economic, li</td>\n",
       "      <td>1</td>\n",
       "      <td>1991</td>\n",
       "    </tr>\n",
       "    <tr>\n",
       "      <th>3</th>\n",
       "      <td>11</td>\n",
       "      <td>women, gender, womens, islamic, female</td>\n",
       "      <td>1</td>\n",
       "      <td>1991</td>\n",
       "    </tr>\n",
       "    <tr>\n",
       "      <th>4</th>\n",
       "      <td>13</td>\n",
       "      <td>civic, technologies, users, citizen, technology</td>\n",
       "      <td>1</td>\n",
       "      <td>1991</td>\n",
       "    </tr>\n",
       "    <tr>\n",
       "      <th>...</th>\n",
       "      <td>...</td>\n",
       "      <td>...</td>\n",
       "      <td>...</td>\n",
       "      <td>...</td>\n",
       "    </tr>\n",
       "    <tr>\n",
       "      <th>1798</th>\n",
       "      <td>105</td>\n",
       "      <td>patent, patents, estonia, estonian, smes</td>\n",
       "      <td>1</td>\n",
       "      <td>2020</td>\n",
       "    </tr>\n",
       "    <tr>\n",
       "      <th>1799</th>\n",
       "      <td>110</td>\n",
       "      <td>financial, banking, banks, economic, european</td>\n",
       "      <td>1</td>\n",
       "      <td>2020</td>\n",
       "    </tr>\n",
       "    <tr>\n",
       "      <th>1800</th>\n",
       "      <td>111</td>\n",
       "      <td>director, company, directors, dsc, companys</td>\n",
       "      <td>1</td>\n",
       "      <td>2020</td>\n",
       "    </tr>\n",
       "    <tr>\n",
       "      <th>1801</th>\n",
       "      <td>126</td>\n",
       "      <td>piracy, danish, denmark, maritime, pirates</td>\n",
       "      <td>1</td>\n",
       "      <td>2020</td>\n",
       "    </tr>\n",
       "    <tr>\n",
       "      <th>1802</th>\n",
       "      <td>128</td>\n",
       "      <td>humanities, university, interdisciplinary, fac...</td>\n",
       "      <td>1</td>\n",
       "      <td>2020</td>\n",
       "    </tr>\n",
       "  </tbody>\n",
       "</table>\n",
       "<p>1803 rows × 4 columns</p>\n",
       "</div>"
      ],
      "text/plain": [
       "      Topic                                              Words  Frequency  \\\n",
       "0        -1         gongos, euthanasia, autonomy, ngos, agents          7   \n",
       "1         0               law, jurisdiction, laws, court, rule          3   \n",
       "2         4               china, chinas, chinese, economic, li          1   \n",
       "3        11             women, gender, womens, islamic, female          1   \n",
       "4        13    civic, technologies, users, citizen, technology          1   \n",
       "...     ...                                                ...        ...   \n",
       "1798    105           patent, patents, estonia, estonian, smes          1   \n",
       "1799    110      financial, banking, banks, economic, european          1   \n",
       "1800    111        director, company, directors, dsc, companys          1   \n",
       "1801    126         piracy, danish, denmark, maritime, pirates          1   \n",
       "1802    128  humanities, university, interdisciplinary, fac...          1   \n",
       "\n",
       "      Timestamp  \n",
       "0          1991  \n",
       "1          1991  \n",
       "2          1991  \n",
       "3          1991  \n",
       "4          1991  \n",
       "...         ...  \n",
       "1798       2020  \n",
       "1799       2020  \n",
       "1800       2020  \n",
       "1801       2020  \n",
       "1802       2020  \n",
       "\n",
       "[1803 rows x 4 columns]"
      ]
     },
     "execution_count": 29,
     "metadata": {},
     "output_type": "execute_result"
    }
   ],
   "source": [
    "topics_over_time"
   ]
  },
  {
   "cell_type": "code",
   "execution_count": 30,
   "id": "00d31f92-67f3-43a9-859b-e5d538040c13",
   "metadata": {},
   "outputs": [],
   "source": [
    "topics_over_time.to_csv(ROOT / \"data\" / \"processed\" / \"210818-bert-freq-dtm.csv\", index=False)"
   ]
  }
 ],
 "metadata": {
  "kernelspec": {
   "display_name": "Python 3 (ipykernel)",
   "language": "python",
   "name": "python3"
  },
  "language_info": {
   "codemirror_mode": {
    "name": "ipython",
    "version": 3
   },
   "file_extension": ".py",
   "mimetype": "text/x-python",
   "name": "python",
   "nbconvert_exporter": "python",
   "pygments_lexer": "ipython3",
   "version": "3.8.5"
  }
 },
 "nbformat": 4,
 "nbformat_minor": 5
}
