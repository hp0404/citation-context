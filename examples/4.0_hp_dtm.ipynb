{
 "cells": [
  {
   "cell_type": "code",
   "execution_count": 1,
   "id": "c98b3c43-4cdd-4eb9-ae9a-0eab4a6c49f8",
   "metadata": {},
   "outputs": [],
   "source": [
    "from bertopic import BERTopic\n",
    "from helpers import read_jsonl, meta_path, texts_path, Publication, ROOT"
   ]
  },
  {
   "cell_type": "code",
   "execution_count": 2,
   "id": "89eba33b-f209-48e2-ad2b-51d83eedd02d",
   "metadata": {},
   "outputs": [],
   "source": [
    "def retrieve_texts(data: Publication, field: str = \"body_text\") -> str:\n",
    "    \"\"\"Parse 'body_text' or 'abstract' fields extracting raw texts.\"\"\"\n",
    "    return {\n",
    "        \"id\": data[\"paper_id\"],\n",
    "        \"text\": \" \".join(section[\"text\"] for section in data[field])\n",
    "    }"
   ]
  },
  {
   "cell_type": "code",
   "execution_count": 3,
   "id": "fe24f0cf-0701-4829-a1ec-34a46bdc77c7",
   "metadata": {},
   "outputs": [],
   "source": [
    "data = [retrieve_texts(paper) for paper in read_jsonl(texts_path)]"
   ]
  },
  {
   "cell_type": "code",
   "execution_count": 4,
   "id": "7c61ebbe-1ba0-4df5-b022-50fce10a4d55",
   "metadata": {},
   "outputs": [],
   "source": [
    "ids = {entry[\"id\"] for entry in data}"
   ]
  },
  {
   "cell_type": "code",
   "execution_count": 15,
   "id": "bbecb7e9-9d57-42db-af04-76d8eb7e2d4b",
   "metadata": {},
   "outputs": [],
   "source": [
    "metadata = []\n",
    "for paper in read_jsonl(meta_path):\n",
    "    if paper[\"paper_id\"] in ids and paper[\"year\"] is not None:\n",
    "        if paper[\"year\"] >= 1991:\n",
    "            metadata.append({\n",
    "                \"id\": paper[\"paper_id\"],\n",
    "                \"year\": paper[\"year\"]\n",
    "            })"
   ]
  },
  {
   "cell_type": "code",
   "execution_count": 16,
   "id": "0feaed30-d2fa-400a-a491-d3005fe4f3d4",
   "metadata": {},
   "outputs": [
    {
     "data": {
      "text/plain": [
       "9145"
      ]
     },
     "execution_count": 16,
     "metadata": {},
     "output_type": "execute_result"
    }
   ],
   "source": [
    "len(metadata)"
   ]
  },
  {
   "cell_type": "code",
   "execution_count": 18,
   "id": "8f3ccdda-1450-4359-9bb3-deaa93883860",
   "metadata": {},
   "outputs": [],
   "source": [
    "timestamps = [paper[\"year\"] for paper in metadata]\n",
    "texts = [paper[\"text\"] for paper in data if paper[\"id\"] in {i[\"id\"] for i in metadata}]"
   ]
  },
  {
   "cell_type": "code",
   "execution_count": 20,
   "id": "63d9d7e7-18b1-4674-9c35-e1a17fdba507",
   "metadata": {},
   "outputs": [],
   "source": [
    "assert len(texts) == len(timestamps)"
   ]
  },
  {
   "cell_type": "code",
   "execution_count": 21,
   "id": "ad7bac98-12be-4874-be35-13e99d631c8e",
   "metadata": {},
   "outputs": [
    {
     "data": {
      "text/plain": [
       "9145"
      ]
     },
     "execution_count": 21,
     "metadata": {},
     "output_type": "execute_result"
    }
   ],
   "source": [
    "len(texts)"
   ]
  },
  {
   "cell_type": "code",
   "execution_count": 23,
   "id": "6a43326d-329c-4bbc-aa6c-ec69d237d6d8",
   "metadata": {},
   "outputs": [
    {
     "data": {
      "application/vnd.jupyter.widget-view+json": {
       "model_id": "f51d977776ed4eeb8b047b384c262dc1",
       "version_major": 2,
       "version_minor": 0
      },
      "text/plain": [
       "Batches:   0%|          | 0/286 [00:00<?, ?it/s]"
      ]
     },
     "metadata": {},
     "output_type": "display_data"
    },
    {
     "name": "stderr",
     "output_type": "stream",
     "text": [
      "2021-08-16 22:31:36,658 - BERTopic - Transformed documents to Embeddings\n",
      "2021-08-16 22:31:50,574 - BERTopic - Reduced dimensionality with UMAP\n",
      "2021-08-16 22:31:51,674 - BERTopic - Clustered UMAP embeddings with HDBSCAN\n"
     ]
    }
   ],
   "source": [
    "topic_model = BERTopic(verbose=True)\n",
    "topics, probs = topic_model.fit_transform(texts)"
   ]
  },
  {
   "cell_type": "code",
   "execution_count": 24,
   "id": "ec54d817-dbd0-42ec-88bd-7468f3cbd973",
   "metadata": {},
   "outputs": [
    {
     "name": "stderr",
     "output_type": "stream",
     "text": [
      "10it [08:35, 51.50s/it]\n"
     ]
    }
   ],
   "source": [
    "topics_over_time = topic_model.topics_over_time(texts, topics, timestamps, nr_bins=20)"
   ]
  },
  {
   "cell_type": "code",
   "execution_count": 39,
   "id": "00d31f92-67f3-43a9-859b-e5d538040c13",
   "metadata": {},
   "outputs": [],
   "source": [
    "topics_over_time.to_csv(ROOT / \"data\" / \"processed\" / \"bertopic-dist.csv\", index=False)"
   ]
  }
 ],
 "metadata": {
  "kernelspec": {
   "display_name": "Python 3 (ipykernel)",
   "language": "python",
   "name": "python3"
  },
  "language_info": {
   "codemirror_mode": {
    "name": "ipython",
    "version": 3
   },
   "file_extension": ".py",
   "mimetype": "text/x-python",
   "name": "python",
   "nbconvert_exporter": "python",
   "pygments_lexer": "ipython3",
   "version": "3.8.5"
  }
 },
 "nbformat": 4,
 "nbformat_minor": 5
}
