{
 "cells": [
  {
   "cell_type": "code",
   "execution_count": 1,
   "id": "c98b3c43-4cdd-4eb9-ae9a-0eab4a6c49f8",
   "metadata": {},
   "outputs": [],
   "source": [
    "from bertopic import BERTopic\n",
    "from helpers import read_jsonl, meta_path, texts_path, Publication, ROOT"
   ]
  },
  {
   "cell_type": "code",
   "execution_count": 2,
   "id": "89eba33b-f209-48e2-ad2b-51d83eedd02d",
   "metadata": {},
   "outputs": [],
   "source": [
    "def retrieve_texts(data: Publication, field: str = \"body_text\") -> str:\n",
    "    \"\"\"Parse 'body_text' or 'abstract' fields extracting raw texts.\"\"\"\n",
    "    return {\n",
    "        \"id\": data[\"paper_id\"],\n",
    "        \"text\": \" \".join(section[\"text\"] for section in data[field])\n",
    "    }"
   ]
  },
  {
   "cell_type": "code",
   "execution_count": 3,
   "id": "fe24f0cf-0701-4829-a1ec-34a46bdc77c7",
   "metadata": {},
   "outputs": [],
   "source": [
    "data = [retrieve_texts(paper) for paper in read_jsonl(texts_path)]"
   ]
  },
  {
   "cell_type": "code",
   "execution_count": 4,
   "id": "7c61ebbe-1ba0-4df5-b022-50fce10a4d55",
   "metadata": {},
   "outputs": [],
   "source": [
    "ids = {entry[\"id\"] for entry in data}"
   ]
  },
  {
   "cell_type": "code",
   "execution_count": 5,
   "id": "bbecb7e9-9d57-42db-af04-76d8eb7e2d4b",
   "metadata": {},
   "outputs": [],
   "source": [
    "metadata = []\n",
    "for paper in read_jsonl(meta_path):\n",
    "    if paper[\"paper_id\"] in ids and paper[\"year\"] is not None:\n",
    "        if paper[\"year\"] >= 1991:\n",
    "            metadata.append({\n",
    "                \"id\": paper[\"paper_id\"],\n",
    "                \"year\": paper[\"year\"]\n",
    "            })"
   ]
  },
  {
   "cell_type": "code",
   "execution_count": 6,
   "id": "8f3ccdda-1450-4359-9bb3-deaa93883860",
   "metadata": {},
   "outputs": [],
   "source": [
    "timestamps = [paper[\"year\"] for paper in metadata]\n",
    "texts = [paper[\"text\"] for paper in data if paper[\"id\"] in {i[\"id\"] for i in metadata}]"
   ]
  },
  {
   "cell_type": "code",
   "execution_count": 7,
   "id": "63d9d7e7-18b1-4674-9c35-e1a17fdba507",
   "metadata": {},
   "outputs": [],
   "source": [
    "assert len(texts) == len(timestamps)"
   ]
  },
  {
   "cell_type": "markdown",
   "id": "4bde6454-c1d7-459a-a0ef-fcc05cb1b167",
   "metadata": {},
   "source": [
    "# TM"
   ]
  },
  {
   "cell_type": "code",
   "execution_count": 8,
   "id": "e92ed4f1-4769-42ba-83a2-d060507f9efa",
   "metadata": {},
   "outputs": [
    {
     "data": {
      "application/vnd.jupyter.widget-view+json": {
       "model_id": "a8ad11062b6f46fea3119eaf7cd28610",
       "version_major": 2,
       "version_minor": 0
      },
      "text/plain": [
       "Batches:   0%|          | 0/286 [00:00<?, ?it/s]"
      ]
     },
     "metadata": {},
     "output_type": "display_data"
    },
    {
     "name": "stderr",
     "output_type": "stream",
     "text": [
      "2021-08-19 11:44:21,409 - BERTopic - Transformed documents to Embeddings\n",
      "2021-08-19 11:45:08,845 - BERTopic - Reduced dimensionality with UMAP\n",
      "2021-08-19 11:45:10,088 - BERTopic - Clustered UMAP embeddings with HDBSCAN\n"
     ]
    }
   ],
   "source": [
    "topic_model = BERTopic(\n",
    "    top_n_words=15, \n",
    "    low_memory=True, \n",
    "    calculate_probabilities=False, \n",
    "    verbose=True\n",
    ")\n",
    "topics, probs = topic_model.fit_transform(texts)"
   ]
  },
  {
   "cell_type": "code",
   "execution_count": 9,
   "id": "c85727bb-b09c-45a0-aa9c-794d549c1fe9",
   "metadata": {},
   "outputs": [
    {
     "data": {
      "text/html": [
       "<div>\n",
       "<style scoped>\n",
       "    .dataframe tbody tr th:only-of-type {\n",
       "        vertical-align: middle;\n",
       "    }\n",
       "\n",
       "    .dataframe tbody tr th {\n",
       "        vertical-align: top;\n",
       "    }\n",
       "\n",
       "    .dataframe thead th {\n",
       "        text-align: right;\n",
       "    }\n",
       "</style>\n",
       "<table border=\"1\" class=\"dataframe\">\n",
       "  <thead>\n",
       "    <tr style=\"text-align: right;\">\n",
       "      <th></th>\n",
       "      <th>Topic</th>\n",
       "      <th>Count</th>\n",
       "      <th>Name</th>\n",
       "    </tr>\n",
       "  </thead>\n",
       "  <tbody>\n",
       "    <tr>\n",
       "      <th>0</th>\n",
       "      <td>-1</td>\n",
       "      <td>3514</td>\n",
       "      <td>-1_we_they_these_were</td>\n",
       "    </tr>\n",
       "    <tr>\n",
       "      <th>1</th>\n",
       "      <td>0</td>\n",
       "      <td>308</td>\n",
       "      <td>0_media_news_internet_information</td>\n",
       "    </tr>\n",
       "    <tr>\n",
       "      <th>2</th>\n",
       "      <td>1</td>\n",
       "      <td>287</td>\n",
       "      <td>1_eu_european_union_eus</td>\n",
       "    </tr>\n",
       "    <tr>\n",
       "      <th>3</th>\n",
       "      <td>2</td>\n",
       "      <td>268</td>\n",
       "      <td>2_migration_migrants_immigration_immigrants</td>\n",
       "    </tr>\n",
       "    <tr>\n",
       "      <th>4</th>\n",
       "      <td>3</td>\n",
       "      <td>255</td>\n",
       "      <td>3_law_court_legal_courts</td>\n",
       "    </tr>\n",
       "  </tbody>\n",
       "</table>\n",
       "</div>"
      ],
      "text/plain": [
       "   Topic  Count                                         Name\n",
       "0     -1   3514                        -1_we_they_these_were\n",
       "1      0    308            0_media_news_internet_information\n",
       "2      1    287                      1_eu_european_union_eus\n",
       "3      2    268  2_migration_migrants_immigration_immigrants\n",
       "4      3    255                     3_law_court_legal_courts"
      ]
     },
     "execution_count": 9,
     "metadata": {},
     "output_type": "execute_result"
    }
   ],
   "source": [
    "freq = topic_model.get_topic_info(); freq.head(5)"
   ]
  },
  {
   "cell_type": "code",
   "execution_count": 10,
   "id": "81820068-209c-4bef-8cdb-4d19ba00c3f8",
   "metadata": {},
   "outputs": [
    {
     "data": {
      "text/html": [
       "<div>\n",
       "<style scoped>\n",
       "    .dataframe tbody tr th:only-of-type {\n",
       "        vertical-align: middle;\n",
       "    }\n",
       "\n",
       "    .dataframe tbody tr th {\n",
       "        vertical-align: top;\n",
       "    }\n",
       "\n",
       "    .dataframe thead th {\n",
       "        text-align: right;\n",
       "    }\n",
       "</style>\n",
       "<table border=\"1\" class=\"dataframe\">\n",
       "  <thead>\n",
       "    <tr style=\"text-align: right;\">\n",
       "      <th></th>\n",
       "      <th>Topic</th>\n",
       "      <th>Count</th>\n",
       "      <th>Name</th>\n",
       "    </tr>\n",
       "  </thead>\n",
       "  <tbody>\n",
       "    <tr>\n",
       "      <th>0</th>\n",
       "      <td>-1</td>\n",
       "      <td>3514</td>\n",
       "      <td>-1_we_they_these_were</td>\n",
       "    </tr>\n",
       "    <tr>\n",
       "      <th>1</th>\n",
       "      <td>0</td>\n",
       "      <td>308</td>\n",
       "      <td>0_media_news_internet_information</td>\n",
       "    </tr>\n",
       "    <tr>\n",
       "      <th>2</th>\n",
       "      <td>1</td>\n",
       "      <td>287</td>\n",
       "      <td>1_eu_european_union_eus</td>\n",
       "    </tr>\n",
       "    <tr>\n",
       "      <th>3</th>\n",
       "      <td>2</td>\n",
       "      <td>268</td>\n",
       "      <td>2_migration_migrants_immigration_immigrants</td>\n",
       "    </tr>\n",
       "    <tr>\n",
       "      <th>4</th>\n",
       "      <td>3</td>\n",
       "      <td>255</td>\n",
       "      <td>3_law_court_legal_courts</td>\n",
       "    </tr>\n",
       "    <tr>\n",
       "      <th>...</th>\n",
       "      <td>...</td>\n",
       "      <td>...</td>\n",
       "      <td>...</td>\n",
       "    </tr>\n",
       "    <tr>\n",
       "      <th>125</th>\n",
       "      <td>124</td>\n",
       "      <td>11</td>\n",
       "      <td>124_fdi_investment_israeli_israel</td>\n",
       "    </tr>\n",
       "    <tr>\n",
       "      <th>126</th>\n",
       "      <td>125</td>\n",
       "      <td>11</td>\n",
       "      <td>125_latin_banks_regionalism_bank</td>\n",
       "    </tr>\n",
       "    <tr>\n",
       "      <th>127</th>\n",
       "      <td>126</td>\n",
       "      <td>11</td>\n",
       "      <td>126_china_asian_chinese_asia</td>\n",
       "    </tr>\n",
       "    <tr>\n",
       "      <th>128</th>\n",
       "      <td>127</td>\n",
       "      <td>11</td>\n",
       "      <td>127_indigenous_cree_peoples_slaves</td>\n",
       "    </tr>\n",
       "    <tr>\n",
       "      <th>129</th>\n",
       "      <td>128</td>\n",
       "      <td>11</td>\n",
       "      <td>128_institutional_governance_institutions_orga...</td>\n",
       "    </tr>\n",
       "  </tbody>\n",
       "</table>\n",
       "<p>130 rows × 3 columns</p>\n",
       "</div>"
      ],
      "text/plain": [
       "     Topic  Count                                               Name\n",
       "0       -1   3514                              -1_we_they_these_were\n",
       "1        0    308                  0_media_news_internet_information\n",
       "2        1    287                            1_eu_european_union_eus\n",
       "3        2    268        2_migration_migrants_immigration_immigrants\n",
       "4        3    255                           3_law_court_legal_courts\n",
       "..     ...    ...                                                ...\n",
       "125    124     11                  124_fdi_investment_israeli_israel\n",
       "126    125     11                   125_latin_banks_regionalism_bank\n",
       "127    126     11                       126_china_asian_chinese_asia\n",
       "128    127     11                 127_indigenous_cree_peoples_slaves\n",
       "129    128     11  128_institutional_governance_institutions_orga...\n",
       "\n",
       "[130 rows x 3 columns]"
      ]
     },
     "execution_count": 10,
     "metadata": {},
     "output_type": "execute_result"
    }
   ],
   "source": [
    "freq"
   ]
  },
  {
   "cell_type": "code",
   "execution_count": 11,
   "id": "b43ff54b-8a42-4f08-9737-439dbadd7ab0",
   "metadata": {},
   "outputs": [],
   "source": [
    "topic_model.save(\"../models/210818-BERT.model\")"
   ]
  },
  {
   "cell_type": "code",
   "execution_count": 12,
   "id": "95cac723-4c47-4621-b6c0-ef597dd4ad2a",
   "metadata": {},
   "outputs": [],
   "source": [
    "freq.to_csv(\"../data/processed/210818-bert-freq-static.csv\", index=False)"
   ]
  },
  {
   "cell_type": "markdown",
   "id": "b7b80b2d-6713-4c30-8893-eeed103e9647",
   "metadata": {},
   "source": [
    "# DTM"
   ]
  },
  {
   "cell_type": "code",
   "execution_count": 13,
   "id": "ec54d817-dbd0-42ec-88bd-7468f3cbd973",
   "metadata": {},
   "outputs": [
    {
     "name": "stderr",
     "output_type": "stream",
     "text": [
      "30it [14:05, 28.18s/it]\n"
     ]
    }
   ],
   "source": [
    "topics_over_time = topic_model.topics_over_time(texts, topics, timestamps)"
   ]
  },
  {
   "cell_type": "code",
   "execution_count": 14,
   "id": "ac8b3929-9caa-4b24-beb6-1ab4a5f63d83",
   "metadata": {},
   "outputs": [],
   "source": [
    "assert len(topics_over_time[\"Topic\"].unique()) == len(freq[\"Topic\"].unique())"
   ]
  },
  {
   "cell_type": "code",
   "execution_count": 15,
   "id": "9d605369-4b4c-4c47-8fa8-56df86f87bb6",
   "metadata": {},
   "outputs": [
    {
     "data": {
      "text/html": [
       "<div>\n",
       "<style scoped>\n",
       "    .dataframe tbody tr th:only-of-type {\n",
       "        vertical-align: middle;\n",
       "    }\n",
       "\n",
       "    .dataframe tbody tr th {\n",
       "        vertical-align: top;\n",
       "    }\n",
       "\n",
       "    .dataframe thead th {\n",
       "        text-align: right;\n",
       "    }\n",
       "</style>\n",
       "<table border=\"1\" class=\"dataframe\">\n",
       "  <thead>\n",
       "    <tr style=\"text-align: right;\">\n",
       "      <th></th>\n",
       "      <th>Topic</th>\n",
       "      <th>Words</th>\n",
       "      <th>Frequency</th>\n",
       "      <th>Timestamp</th>\n",
       "    </tr>\n",
       "  </thead>\n",
       "  <tbody>\n",
       "    <tr>\n",
       "      <th>0</th>\n",
       "      <td>-1</td>\n",
       "      <td>gongos, medical, euthanasia, autonomy, ngos, a...</td>\n",
       "      <td>7</td>\n",
       "      <td>1991</td>\n",
       "    </tr>\n",
       "    <tr>\n",
       "      <th>1</th>\n",
       "      <td>0</td>\n",
       "      <td>civic, technologies, users, citizen, digital, ...</td>\n",
       "      <td>1</td>\n",
       "      <td>1991</td>\n",
       "    </tr>\n",
       "    <tr>\n",
       "      <th>2</th>\n",
       "      <td>3</td>\n",
       "      <td>law, hague, jurisdiction, laws, court, rule, l...</td>\n",
       "      <td>3</td>\n",
       "      <td>1991</td>\n",
       "    </tr>\n",
       "    <tr>\n",
       "      <th>3</th>\n",
       "      <td>6</td>\n",
       "      <td>environmental, china, chinas, chinese, economi...</td>\n",
       "      <td>1</td>\n",
       "      <td>1991</td>\n",
       "    </tr>\n",
       "    <tr>\n",
       "      <th>4</th>\n",
       "      <td>11</td>\n",
       "      <td>serb, military, croatia, war, yugoslavia, bosn...</td>\n",
       "      <td>2</td>\n",
       "      <td>1991</td>\n",
       "    </tr>\n",
       "    <tr>\n",
       "      <th>...</th>\n",
       "      <td>...</td>\n",
       "      <td>...</td>\n",
       "      <td>...</td>\n",
       "      <td>...</td>\n",
       "    </tr>\n",
       "    <tr>\n",
       "      <th>1765</th>\n",
       "      <td>102</td>\n",
       "      <td>financial, banking, banks, growth, sector, eco...</td>\n",
       "      <td>1</td>\n",
       "      <td>2020</td>\n",
       "    </tr>\n",
       "    <tr>\n",
       "      <th>1766</th>\n",
       "      <td>104</td>\n",
       "      <td>patent, patents, estonia, estonian, smes, inno...</td>\n",
       "      <td>1</td>\n",
       "      <td>2020</td>\n",
       "    </tr>\n",
       "    <tr>\n",
       "      <th>1767</th>\n",
       "      <td>117</td>\n",
       "      <td>humanities, uu, students, university, interdis...</td>\n",
       "      <td>1</td>\n",
       "      <td>2020</td>\n",
       "    </tr>\n",
       "    <tr>\n",
       "      <th>1768</th>\n",
       "      <td>120</td>\n",
       "      <td>piracy, danish, denmark, maritime, pirates, so...</td>\n",
       "      <td>1</td>\n",
       "      <td>2020</td>\n",
       "    </tr>\n",
       "    <tr>\n",
       "      <th>1769</th>\n",
       "      <td>121</td>\n",
       "      <td>director, company, directors, dsc, companys, d...</td>\n",
       "      <td>1</td>\n",
       "      <td>2020</td>\n",
       "    </tr>\n",
       "  </tbody>\n",
       "</table>\n",
       "<p>1770 rows × 4 columns</p>\n",
       "</div>"
      ],
      "text/plain": [
       "      Topic                                              Words  Frequency  \\\n",
       "0        -1  gongos, medical, euthanasia, autonomy, ngos, a...          7   \n",
       "1         0  civic, technologies, users, citizen, digital, ...          1   \n",
       "2         3  law, hague, jurisdiction, laws, court, rule, l...          3   \n",
       "3         6  environmental, china, chinas, chinese, economi...          1   \n",
       "4        11  serb, military, croatia, war, yugoslavia, bosn...          2   \n",
       "...     ...                                                ...        ...   \n",
       "1765    102  financial, banking, banks, growth, sector, eco...          1   \n",
       "1766    104  patent, patents, estonia, estonian, smes, inno...          1   \n",
       "1767    117  humanities, uu, students, university, interdis...          1   \n",
       "1768    120  piracy, danish, denmark, maritime, pirates, so...          1   \n",
       "1769    121  director, company, directors, dsc, companys, d...          1   \n",
       "\n",
       "      Timestamp  \n",
       "0          1991  \n",
       "1          1991  \n",
       "2          1991  \n",
       "3          1991  \n",
       "4          1991  \n",
       "...         ...  \n",
       "1765       2020  \n",
       "1766       2020  \n",
       "1767       2020  \n",
       "1768       2020  \n",
       "1769       2020  \n",
       "\n",
       "[1770 rows x 4 columns]"
      ]
     },
     "execution_count": 15,
     "metadata": {},
     "output_type": "execute_result"
    }
   ],
   "source": [
    "topics_over_time"
   ]
  },
  {
   "cell_type": "markdown",
   "id": "d32a9027-0146-4da4-bf0a-cde558f82307",
   "metadata": {},
   "source": [
    "# Assigning weights"
   ]
  },
  {
   "cell_type": "code",
   "execution_count": 16,
   "id": "cdc71533-f03f-4356-94ab-64c395d85173",
   "metadata": {},
   "outputs": [],
   "source": [
    "# weight_per_topic = groups by topic, calculates weight by dividing frequency per year by overall frequency of topic\n",
    "topics_over_time[\"weight_per_topic\"] = topics_over_time.groupby(\"Topic\")[\"Frequency\"].apply(lambda x: 100 * x / float(x.sum()))\n",
    "\n",
    "# weight_per_timestamp = groups by timestamp, calculates weight by dividing frequency per topic by overall frequency of timestamp\n",
    "topics_over_time[\"weight_per_timestamp\"] = topics_over_time.groupby(\"Timestamp\")[\"Frequency\"].apply(lambda x: 100 * x / float(x.sum()))"
   ]
  },
  {
   "cell_type": "code",
   "execution_count": 17,
   "id": "f4cff0a4-8b09-4e40-b6b2-65541675ecb6",
   "metadata": {},
   "outputs": [],
   "source": [
    "topics_over_time.to_csv(ROOT / \"data\" / \"processed\" / \"210818-bert-freq-dtm.csv\", index=False)"
   ]
  }
 ],
 "metadata": {
  "kernelspec": {
   "display_name": "Python 3 (ipykernel)",
   "language": "python",
   "name": "python3"
  },
  "language_info": {
   "codemirror_mode": {
    "name": "ipython",
    "version": 3
   },
   "file_extension": ".py",
   "mimetype": "text/x-python",
   "name": "python",
   "nbconvert_exporter": "python",
   "pygments_lexer": "ipython3",
   "version": "3.8.5"
  }
 },
 "nbformat": 4,
 "nbformat_minor": 5
}
